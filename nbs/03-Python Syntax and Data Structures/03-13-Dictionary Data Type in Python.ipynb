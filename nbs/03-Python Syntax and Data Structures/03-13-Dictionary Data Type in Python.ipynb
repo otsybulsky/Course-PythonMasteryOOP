{
 "cells": [
  {
   "cell_type": "code",
   "execution_count": 4,
   "metadata": {},
   "outputs": [
    {
     "name": "stdout",
     "output_type": "stream",
     "text": [
      "<class 'dict'>\n"
     ]
    },
    {
     "data": {
      "text/plain": [
       "{'Ukraine': 'Kyiv', 'England': 'London', 'Germany': 'Berlin'}"
      ]
     },
     "execution_count": 4,
     "metadata": {},
     "output_type": "execute_result"
    }
   ],
   "source": [
    "# dictionary is unordered mutable collection\n",
    "country_data = {'Ukraine': 'Kyiv', 'England': 'London', 'Germany': 'Berlin'} # { key: value }\n",
    "print(type(country_data))\n",
    "country_data"
   ]
  },
  {
   "cell_type": "code",
   "execution_count": 22,
   "metadata": {},
   "outputs": [
    {
     "name": "stdout",
     "output_type": "stream",
     "text": [
      "dict_keys(['Ukraine', 'England', 'Germany'])\n",
      "['England', 'Germany', 'Ukraine']\n",
      "dict_values(['Kyiv', 'London', 'Berlin'])\n",
      "dict_items([('Ukraine', 'Kyiv'), ('England', 'London'), ('Germany', 'Berlin')])\n"
     ]
    }
   ],
   "source": [
    "print(country_data.keys())\n",
    "print (sorted(country_data)) # sorted keys\n",
    "print(country_data.values())\n",
    "print(country_data.items())"
   ]
  },
  {
   "cell_type": "code",
   "execution_count": 12,
   "metadata": {},
   "outputs": [
    {
     "name": "stdout",
     "output_type": "stream",
     "text": [
      "{'country': 'USA'}\n",
      "{'country': 'Poland'}\n"
     ]
    }
   ],
   "source": [
    "dict2 = dict(country = 'USA')\n",
    "print(dict2)\n",
    "\n",
    "dict3 = {}\n",
    "dict3['country'] = 'Poland'\n",
    "print(dict3)"
   ]
  },
  {
   "cell_type": "code",
   "execution_count": 14,
   "metadata": {},
   "outputs": [
    {
     "name": "stdout",
     "output_type": "stream",
     "text": [
      "USA Poland\n",
      "None\n"
     ]
    }
   ],
   "source": [
    "print(dict2['country'], dict3.get('country')) # get returns None if key not found, ['key'] throw error\n",
    "\n",
    "print(dict3.get('some_key'))"
   ]
  },
  {
   "cell_type": "code",
   "execution_count": 20,
   "metadata": {},
   "outputs": [
    {
     "name": "stdout",
     "output_type": "stream",
     "text": [
      "{'country': 'Poland', 'new_field': 'something'}\n",
      "{'country': 'Poland'}\n",
      "None\n"
     ]
    }
   ],
   "source": [
    "dict3.update({'new_field': 'something'})\n",
    "print(dict3)\n",
    "\n",
    "del dict3['new_field']\n",
    "print(dict3)\n",
    "\n",
    "removed = dict3.pop('xxx', None)\n",
    "print(removed)"
   ]
  }
 ],
 "metadata": {
  "kernelspec": {
   "display_name": ".venv",
   "language": "python",
   "name": "python3"
  },
  "language_info": {
   "codemirror_mode": {
    "name": "ipython",
    "version": 3
   },
   "file_extension": ".py",
   "mimetype": "text/x-python",
   "name": "python",
   "nbconvert_exporter": "python",
   "pygments_lexer": "ipython3",
   "version": "3.12.5"
  }
 },
 "nbformat": 4,
 "nbformat_minor": 2
}
