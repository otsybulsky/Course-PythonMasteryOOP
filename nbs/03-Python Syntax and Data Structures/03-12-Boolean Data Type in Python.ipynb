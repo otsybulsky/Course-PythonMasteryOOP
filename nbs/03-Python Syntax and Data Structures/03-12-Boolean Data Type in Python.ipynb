{
 "cells": [
  {
   "cell_type": "code",
   "execution_count": 4,
   "metadata": {},
   "outputs": [
    {
     "name": "stdout",
     "output_type": "stream",
     "text": [
      "True\n",
      "True\n",
      "False\n",
      "<class 'bool'>\n"
     ]
    }
   ],
   "source": [
    "# order of precedence logical operators:  not (first) -> and (second) -> or (last)\n",
    "\n",
    "print(1 > 0 and 1 == 1)\n",
    "print(1 < 0 or 1 == 1)\n",
    "print(not True)\n",
    "print(type(True))\n"
   ]
  }
 ],
 "metadata": {
  "kernelspec": {
   "display_name": ".venv",
   "language": "python",
   "name": "python3"
  },
  "language_info": {
   "codemirror_mode": {
    "name": "ipython",
    "version": 3
   },
   "file_extension": ".py",
   "mimetype": "text/x-python",
   "name": "python",
   "nbconvert_exporter": "python",
   "pygments_lexer": "ipython3",
   "version": "3.12.5"
  }
 },
 "nbformat": 4,
 "nbformat_minor": 2
}
