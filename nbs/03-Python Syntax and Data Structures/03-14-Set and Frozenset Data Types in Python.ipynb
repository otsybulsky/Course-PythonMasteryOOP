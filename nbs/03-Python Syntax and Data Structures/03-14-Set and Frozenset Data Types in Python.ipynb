{
 "cells": [
  {
   "cell_type": "code",
   "execution_count": 6,
   "metadata": {},
   "outputs": [
    {
     "name": "stdout",
     "output_type": "stream",
     "text": [
      "<class 'set'> {'John', 'Alice', 'Bob'}\n",
      "{'John', 'Alice', 'Bob'}\n",
      "{'John', 'Alice', 'Bob', 'xxx'}\n",
      "{'John', 'Alice', 'Bob'}\n"
     ]
    }
   ],
   "source": [
    "names = { 'Alice', 'Bob', 'John'} # set is mutable, slower\n",
    "print(type(names), names)\n",
    "\n",
    "names.add('Alice')\n",
    "print(names)\n",
    "\n",
    "names.add('xxx')\n",
    "print(names)\n",
    "names.remove('xxx')\n",
    "names.discard('aaa') # avoid error if not found\n",
    "print(names)"
   ]
  },
  {
   "cell_type": "code",
   "execution_count": 19,
   "metadata": {},
   "outputs": [
    {
     "name": "stdout",
     "output_type": "stream",
     "text": [
      "Union set: {1, 2, 3, 4, 5, 9}\n",
      "Intersection set: set()\n",
      "True\n",
      "Difference set: {1, 2, 3}\n",
      "Simmetric difference set: {1, 2, 3, 4, 5, 9}\n"
     ]
    }
   ],
   "source": [
    "set1 = {1, 2, 3}\n",
    "set2 = {9, 4, 5}\n",
    "\n",
    "print('Union set:', set1 | set2 ) #exclude duplicates\n",
    "\n",
    "print('Intersection set:', set1 & set2 ) # common values\n",
    "print(set1.isdisjoint(set2))\n",
    "\n",
    "print('Difference set:', set1 - set2 ) # exclude set2 values\n",
    "print('Simmetric difference set:', set1 ^ set2 ) # exclude common elements\n"
   ]
  },
  {
   "cell_type": "code",
   "execution_count": 16,
   "metadata": {},
   "outputs": [
    {
     "name": "stdout",
     "output_type": "stream",
     "text": [
      "<class 'frozenset'> frozenset({1, 2, 3})\n",
      "frozenset({4, 5, 6})\n",
      "frozenset({'H', 'o', 'l', 'e'})\n"
     ]
    }
   ],
   "source": [
    "# frozen set is immutable set, faster\n",
    "lst1 = [1, 2, 3]\n",
    "frozen_set = frozenset(lst1)\n",
    "print(type(frozen_set), frozen_set)\n",
    "\n",
    "print(frozenset({4, 5, 6}))\n",
    "print(frozenset('Hello'))\n"
   ]
  }
 ],
 "metadata": {
  "kernelspec": {
   "display_name": ".venv",
   "language": "python",
   "name": "python3"
  },
  "language_info": {
   "codemirror_mode": {
    "name": "ipython",
    "version": 3
   },
   "file_extension": ".py",
   "mimetype": "text/x-python",
   "name": "python",
   "nbconvert_exporter": "python",
   "pygments_lexer": "ipython3",
   "version": "3.12.5"
  }
 },
 "nbformat": 4,
 "nbformat_minor": 2
}
