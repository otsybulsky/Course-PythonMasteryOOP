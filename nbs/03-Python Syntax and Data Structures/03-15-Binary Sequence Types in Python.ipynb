{
 "cells": [
  {
   "cell_type": "code",
   "execution_count": 17,
   "metadata": {},
   "outputs": [
    {
     "name": "stdout",
     "output_type": "stream",
     "text": [
      "b'Hello !!! \\xd0\\xbf\\xd1\\x80\\xd0\\xb8\\xd0\\xb2\\xd1\\x96\\xd1\\x82' <class 'bytes'>\n",
      "72 101\n",
      "22\n",
      "Hello !!! привіт\n",
      "b'\\x00\\x00\\x00\\x00\\x00'\n",
      "b'\\x01\\x02\\x03'\n",
      "b'He\\x03'\n",
      "b'\\x01\\x02\\x03'\n"
     ]
    }
   ],
   "source": [
    "# bytes is immutable sequence of bytes\n",
    "\n",
    "# data = b'Hello world!'\n",
    "data = bytes(\"Hello !!! привіт\", encoding=\"utf-8\") # converts to ASCII codes\n",
    "print(data, type(data))\n",
    "print(data[0], data[1])\n",
    "\n",
    "print(len(data))\n",
    "print(data.decode('utf-8'))\n",
    "\n",
    "print(bytes(5))\n",
    "print(bytes((1, 2, 3)))\n",
    "print(bytes([72, 101, 3]))\n",
    "print(bytes({1, 2, 3}))\n"
   ]
  },
  {
   "cell_type": "code",
   "execution_count": 21,
   "metadata": {},
   "outputs": [
    {
     "name": "stdout",
     "output_type": "stream",
     "text": [
      "bytearray(b'hello')\n",
      "bytearray(b'hello!')\n"
     ]
    }
   ],
   "source": [
    "data = bytearray('hello', 'utf-8') # mutable\n",
    "print(data)\n",
    "data.append(33)\n",
    "print(data)\n",
    "\n"
   ]
  }
 ],
 "metadata": {
  "kernelspec": {
   "display_name": ".venv",
   "language": "python",
   "name": "python3"
  },
  "language_info": {
   "codemirror_mode": {
    "name": "ipython",
    "version": 3
   },
   "file_extension": ".py",
   "mimetype": "text/x-python",
   "name": "python",
   "nbconvert_exporter": "python",
   "pygments_lexer": "ipython3",
   "version": "3.12.5"
  }
 },
 "nbformat": 4,
 "nbformat_minor": 2
}
