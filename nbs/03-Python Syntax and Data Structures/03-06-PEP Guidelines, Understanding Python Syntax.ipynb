{
 "cells": [
  {
   "cell_type": "markdown",
   "metadata": {},
   "source": [
    "https://peps.python.org/\n",
    "PEP 8 – Style Guide for Python Code https://peps.python.org/pep-0008/\n",
    "\n",
    "PEP - Python Enhacement Proposal\n",
    "\n",
    "variables:      snake_case\n",
    "functions:     snake_cases() - ends with an one blank line\n",
    "classes:         UpperCamelCase - ends with two blank lines\n",
    "\n"
   ]
  },
  {
   "cell_type": "code",
   "execution_count": 2,
   "metadata": {},
   "outputs": [
    {
     "name": "stdout",
     "output_type": "stream",
     "text": [
      "TestTest\n"
     ]
    }
   ],
   "source": [
    "'''\n",
    "    Multi \n",
    "    lines\n",
    "    comment\n",
    "'''\n",
    "a = \"Test\" # inline comment\n",
    "print(a*2)"
   ]
  }
 ],
 "metadata": {
  "kernelspec": {
   "display_name": ".venv",
   "language": "python",
   "name": "python3"
  },
  "language_info": {
   "codemirror_mode": {
    "name": "ipython",
    "version": 3
   },
   "file_extension": ".py",
   "mimetype": "text/x-python",
   "name": "python",
   "nbconvert_exporter": "python",
   "pygments_lexer": "ipython3",
   "version": "3.12.5"
  }
 },
 "nbformat": 4,
 "nbformat_minor": 2
}
