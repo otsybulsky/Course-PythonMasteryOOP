{
 "cells": [
  {
   "cell_type": "code",
   "execution_count": 5,
   "metadata": {},
   "outputs": [
    {
     "name": "stdout",
     "output_type": "stream",
     "text": [
      "<class 'tuple'> (1, 2, 3, 4, 'hello')\n",
      "<class 'tuple'> (1, 2, 3, 4, 'hello')\n",
      "<class 'tuple'> (3,)\n"
     ]
    }
   ],
   "source": [
    "a = (1, 2, 3, 4, 'hello')\n",
    "print(type(a), a)\n",
    "\n",
    "a = 1, 2, 3, 4, 'hello'\n",
    "print(type(a), a)\n",
    "\n",
    "b = 3,\n",
    "print(type(b), b)"
   ]
  },
  {
   "cell_type": "code",
   "execution_count": 9,
   "metadata": {},
   "outputs": [
    {
     "name": "stdout",
     "output_type": "stream",
     "text": [
      "(3, 4, 'hello')\n",
      "(1, 2, 3, 4, 'hello', 3)\n",
      "True\n"
     ]
    }
   ],
   "source": [
    "print(a[2:])\n",
    "print(a + b)\n",
    "\n",
    "print(3 in b)"
   ]
  },
  {
   "cell_type": "code",
   "execution_count": 18,
   "metadata": {},
   "outputs": [
    {
     "name": "stdout",
     "output_type": "stream",
     "text": [
      "(1, 2, 3, 4, 'hello')\n",
      "There is no \"44\"\n",
      "1 [2, 3, 4] hello\n"
     ]
    }
   ],
   "source": [
    "print(a)\n",
    "item = 44\n",
    "if item in a:\n",
    "    print(a.index(item))\n",
    "else:\n",
    "    print(f'There is no \"{item}\"')\n",
    "\n",
    "b, *c, d = a\n",
    "print(b, c, d)"
   ]
  },
  {
   "cell_type": "code",
   "execution_count": null,
   "metadata": {},
   "outputs": [],
   "source": []
  }
 ],
 "metadata": {
  "kernelspec": {
   "display_name": ".venv",
   "language": "python",
   "name": "python3"
  },
  "language_info": {
   "codemirror_mode": {
    "name": "ipython",
    "version": 3
   },
   "file_extension": ".py",
   "mimetype": "text/x-python",
   "name": "python",
   "nbconvert_exporter": "python",
   "pygments_lexer": "ipython3",
   "version": "3.12.5"
  }
 },
 "nbformat": 4,
 "nbformat_minor": 2
}
