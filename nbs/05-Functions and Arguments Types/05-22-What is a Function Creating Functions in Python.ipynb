{
 "cells": [
  {
   "cell_type": "code",
   "execution_count": 15,
   "metadata": {},
   "outputs": [
    {
     "name": "stdout",
     "output_type": "stream",
     "text": [
      "Hello, Oleg :) Welcome to the Python world !\n",
      "<class 'NoneType'> None\n"
     ]
    }
   ],
   "source": [
    "def some_func():\n",
    "    pass\n",
    "\n",
    "def greet(name):\n",
    "    some_func()\n",
    "    print(f\"Hello, {name} :) Welcome to the Python world !\")\n",
    "\n",
    "result = greet(\"Oleg\")\n",
    "print(type(result), result)"
   ]
  },
  {
   "cell_type": "markdown",
   "metadata": {},
   "source": [
    "05-23 Positional and Keyword Arguments in Python Functions"
   ]
  },
  {
   "cell_type": "code",
   "execution_count": 16,
   "metadata": {},
   "outputs": [
    {
     "name": "stdout",
     "output_type": "stream",
     "text": [
      "3\n"
     ]
    }
   ],
   "source": [
    "# positional args\n",
    "def add_numbers(x, y):\n",
    "    return x + y\n",
    "\n",
    "result = add_numbers(1, 2)\n",
    "print(result)"
   ]
  },
  {
   "cell_type": "code",
   "execution_count": 17,
   "metadata": {},
   "outputs": [
    {
     "name": "stdout",
     "output_type": "stream",
     "text": [
      "90\n",
      "90\n",
      "90\n"
     ]
    }
   ],
   "source": [
    "# keyword args\n",
    "def calculate_shipping_cost(weight, distance):\n",
    "    rate_weight = 5\n",
    "    rate_distance = 2\n",
    "    shipping_cost = weight * rate_weight + distance * rate_distance\n",
    "    return shipping_cost\n",
    "\n",
    "cost = calculate_shipping_cost(10, 20)\n",
    "print(cost)\n",
    "\n",
    "cost = calculate_shipping_cost(weight=10, distance=20)\n",
    "print(cost)\n",
    "\n",
    "cost = calculate_shipping_cost(distance=20, weight=10)\n",
    "print(cost)"
   ]
  },
  {
   "cell_type": "markdown",
   "metadata": {},
   "source": [
    "05-24 Argument Packing and Unpacking Operators in Python Functions"
   ]
  },
  {
   "cell_type": "code",
   "execution_count": 18,
   "metadata": {},
   "outputs": [
    {
     "name": "stdout",
     "output_type": "stream",
     "text": [
      "1 2 [3, 4]\n",
      "New\n",
      "12\n",
      "Hello\n",
      "!!!\n",
      "name Oleg\n",
      "age 49\n",
      "sex male\n",
      "Oleg 49\n"
     ]
    }
   ],
   "source": [
    "# def func(*args (list, tuple, set), **kwargs (dict))\n",
    "\n",
    "my_list = [1, 2, 3, 4]\n",
    "a, b, *c = my_list # unpacking\n",
    "print(a, b, c)\n",
    "\n",
    "def func(*args):\n",
    "    for i in args:\n",
    "        print(i)\n",
    "\n",
    "func(\"New\", 12, \"Hello\", \"!!!\")\n",
    "\n",
    "def func(**kwargs):\n",
    "    for key, value in kwargs.items():\n",
    "        print(key, value)\n",
    "\n",
    "func(name=\"Oleg\", age=49, sex=\"male\")\n",
    "\n",
    "data = {\n",
    "    \"name\": \"Oleg\",\n",
    "    \"age\": 49\n",
    "}\n",
    "\n",
    "def func(name, age):\n",
    "    print(name, age)\n",
    "    \n",
    "func(**data) # call func(name=\"Oleg\", age=49) - dictionary unpacking\n"
   ]
  },
  {
   "cell_type": "markdown",
   "metadata": {},
   "source": [
    "05-25 Lambda Functions in Python"
   ]
  },
  {
   "cell_type": "code",
   "execution_count": 19,
   "metadata": {},
   "outputs": [
    {
     "name": "stdout",
     "output_type": "stream",
     "text": [
      "8\n",
      "<class 'function'> Hello World !\n",
      "[1, 2, 3, 4] [1, 4, 9, 16]\n",
      "[1, 2, 3, 4, 5, 6, 7, 8, 9, 10, 11, 12] [2, 4, 6, 8, 10, 12]\n"
     ]
    }
   ],
   "source": [
    "add = lambda x, y: x + y\n",
    "result = add(3, 5)\n",
    "print(result)\n",
    "\n",
    "greet = lambda: \"Hello World !\"\n",
    "print(type(greet), greet())\n",
    "\n",
    "numbers = [x for x in range(1, 5)]\n",
    "squared = list(map(lambda x:  x ** 2, numbers))\n",
    "print(numbers, squared)\n",
    "\n",
    "numbers = [x for x in range(1, 13)]\n",
    "squared = list(filter(lambda x:  x % 2 == 0, numbers))\n",
    "print(numbers, squared)\n",
    "\n"
   ]
  },
  {
   "cell_type": "markdown",
   "metadata": {},
   "source": [
    "05-26 What is Scope in Python?"
   ]
  },
  {
   "cell_type": "code",
   "execution_count": 20,
   "metadata": {},
   "outputs": [
    {
     "name": "stdout",
     "output_type": "stream",
     "text": [
      "Global 123 a 33 Enclosed Scope 1\n",
      "Global 123 a 33 Local Scope 2\n"
     ]
    }
   ],
   "source": [
    "# Built-in Scope\n",
    "\n",
    "global_x = 123 # Global scope\n",
    "\n",
    "a = 22\n",
    "\n",
    "def outer_func():\n",
    "    x = 1 # Enclosed Scope\n",
    "    global a\n",
    "    a = 33 # change global variable\n",
    "    print(\"Global\", global_x, \"a\",  a, \"Enclosed Scope\", x)\n",
    "    inner_func()\n",
    "\n",
    "def inner_func():\n",
    "    x = 2 # Local Scope\n",
    "    print(\"Global\", global_x, \"a\",  a, \"Local Scope\", x)\n",
    "\n",
    "outer_func()"
   ]
  },
  {
   "cell_type": "markdown",
   "metadata": {},
   "source": [
    "05-27 Using try-except in Python Functions"
   ]
  },
  {
   "cell_type": "code",
   "execution_count": 21,
   "metadata": {},
   "outputs": [
    {
     "name": "stdout",
     "output_type": "stream",
     "text": [
      "Error: division by zero\n",
      "Done\n",
      "Some Error: unsupported operand type(s) for /: 'int' and 'str'\n",
      "Done\n"
     ]
    }
   ],
   "source": [
    "def devision(a, b):\n",
    "    try:\n",
    "        return a / b\n",
    "    except ZeroDivisionError  as e:\n",
    "        print(f\"Error: {e}\")\n",
    "    except Exception as e:\n",
    "        print(f\"Some Error: {e}\")\n",
    "    else:\n",
    "        print(\"No exceptions\")\n",
    "    finally:\n",
    "        print(\"Done\")\n",
    "\n",
    "x = devision(1, 0)\n",
    "x = devision(1, \"2\")\n"
   ]
  }
 ],
 "metadata": {
  "kernelspec": {
   "display_name": ".venv",
   "language": "python",
   "name": "python3"
  },
  "language_info": {
   "codemirror_mode": {
    "name": "ipython",
    "version": 3
   },
   "file_extension": ".py",
   "mimetype": "text/x-python",
   "name": "python",
   "nbconvert_exporter": "python",
   "pygments_lexer": "ipython3",
   "version": "3.12.5"
  }
 },
 "nbformat": 4,
 "nbformat_minor": 2
}
