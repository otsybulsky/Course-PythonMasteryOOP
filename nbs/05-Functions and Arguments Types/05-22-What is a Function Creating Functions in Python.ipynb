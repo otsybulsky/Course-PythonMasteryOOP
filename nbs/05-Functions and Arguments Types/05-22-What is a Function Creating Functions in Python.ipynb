{
 "cells": [
  {
   "cell_type": "code",
   "execution_count": 10,
   "metadata": {},
   "outputs": [
    {
     "name": "stdout",
     "output_type": "stream",
     "text": [
      "Hello, Oleg :) Welcome to the Python world !\n",
      "<class 'NoneType'> None\n"
     ]
    }
   ],
   "source": [
    "def some_func():\n",
    "    pass\n",
    "\n",
    "def greet(name):\n",
    "    some_func()\n",
    "    print(f\"Hello, {name} :) Welcome to the Python world !\")\n",
    "\n",
    "result = greet(\"Oleg\")\n",
    "print(type(result), result)"
   ]
  },
  {
   "cell_type": "markdown",
   "metadata": {},
   "source": [
    "05-23 Positional and Keyword Arguments in Python Functions"
   ]
  },
  {
   "cell_type": "code",
   "execution_count": 11,
   "metadata": {},
   "outputs": [
    {
     "name": "stdout",
     "output_type": "stream",
     "text": [
      "3\n"
     ]
    }
   ],
   "source": [
    "# positional args\n",
    "def add_numbers(x, y):\n",
    "    return x + y\n",
    "\n",
    "result = add_numbers(1, 2)\n",
    "print(result)"
   ]
  },
  {
   "cell_type": "code",
   "execution_count": 12,
   "metadata": {},
   "outputs": [
    {
     "name": "stdout",
     "output_type": "stream",
     "text": [
      "90\n",
      "90\n",
      "90\n"
     ]
    }
   ],
   "source": [
    "# keyword args\n",
    "def calculate_shipping_cost(weight, distance):\n",
    "    rate_weight = 5\n",
    "    rate_distance = 2\n",
    "    shipping_cost = weight * rate_weight + distance * rate_distance\n",
    "    return shipping_cost\n",
    "\n",
    "cost = calculate_shipping_cost(10, 20)\n",
    "print(cost)\n",
    "\n",
    "cost = calculate_shipping_cost(weight=10, distance=20)\n",
    "print(cost)\n",
    "\n",
    "cost = calculate_shipping_cost(distance=20, weight=10)\n",
    "print(cost)"
   ]
  },
  {
   "cell_type": "markdown",
   "metadata": {},
   "source": [
    "05-24 Argument Packing and Unpacking Operators in Python Functions"
   ]
  },
  {
   "cell_type": "code",
   "execution_count": 19,
   "metadata": {},
   "outputs": [
    {
     "name": "stdout",
     "output_type": "stream",
     "text": [
      "1 2 [3, 4]\n",
      "New\n",
      "12\n",
      "Hello\n",
      "!!!\n",
      "name Oleg\n",
      "age 49\n",
      "sex male\n",
      "Oleg 49\n"
     ]
    }
   ],
   "source": [
    "# def func(*args (list, tuple, set), **kwargs (dict))\n",
    "\n",
    "my_list = [1, 2, 3, 4]\n",
    "a, b, *c = my_list # unpacking\n",
    "print(a, b, c)\n",
    "\n",
    "def func(*args):\n",
    "    for i in args:\n",
    "        print(i)\n",
    "\n",
    "func(\"New\", 12, \"Hello\", \"!!!\")\n",
    "\n",
    "def func(**kwargs):\n",
    "    for key, value in kwargs.items():\n",
    "        print(key, value)\n",
    "\n",
    "func(name=\"Oleg\", age=49, sex=\"male\")\n",
    "\n",
    "data = {\n",
    "    \"name\": \"Oleg\",\n",
    "    \"age\": 49\n",
    "}\n",
    "\n",
    "def func(name, age):\n",
    "    print(name, age)\n",
    "    \n",
    "func(**data) # call func(name=\"Oleg\", age=49) - dictionary unpacking\n"
   ]
  }
 ],
 "metadata": {
  "kernelspec": {
   "display_name": ".venv",
   "language": "python",
   "name": "python3"
  },
  "language_info": {
   "codemirror_mode": {
    "name": "ipython",
    "version": 3
   },
   "file_extension": ".py",
   "mimetype": "text/x-python",
   "name": "python",
   "nbconvert_exporter": "python",
   "pygments_lexer": "ipython3",
   "version": "3.12.5"
  }
 },
 "nbformat": 4,
 "nbformat_minor": 2
}
