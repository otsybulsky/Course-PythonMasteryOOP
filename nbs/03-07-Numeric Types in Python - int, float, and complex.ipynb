{
 "cells": [
  {
   "cell_type": "code",
   "execution_count": 3,
   "metadata": {},
   "outputs": [
    {
     "name": "stdout",
     "output_type": "stream",
     "text": [
      "<class 'str'>\n",
      "<class 'int'>\n"
     ]
    }
   ],
   "source": [
    "# numbers - int, float, complex\n",
    "\n",
    "large_positive = '999999999999999999999999999999999999999999999'\n",
    "print(type(large_positive)) # str\n",
    "\n",
    "large_positive = int(large_positive)\n",
    "print(type(large_positive)) # int"
   ]
  },
  {
   "cell_type": "code",
   "execution_count": 6,
   "metadata": {},
   "outputs": [
    {
     "name": "stdout",
     "output_type": "stream",
     "text": [
      "-6.530861358025\n",
      "586.956649338402\n",
      "0.8999999999999999\n"
     ]
    }
   ],
   "source": [
    "a = 2.555555\n",
    "b = -2.555555\n",
    "d = 1.5e3 # scientific notation 1.5 * 10^3 = 1500\n",
    "\n",
    "product_result = a * b\n",
    "division_result = d / a\n",
    "\n",
    "print(product_result)\n",
    "print(division_result)"
   ]
  },
  {
   "cell_type": "code",
   "execution_count": 11,
   "metadata": {},
   "outputs": [
    {
     "name": "stdout",
     "output_type": "stream",
     "text": [
      "0.8999999999999999\n",
      "0.8999999999999999666933092612\n",
      "0.9\n"
     ]
    }
   ],
   "source": [
    "# precision issues with floats\n",
    "x = 0.2 + 0.7\n",
    "print(x) # 0.8999999999999999\n",
    "\n",
    "from decimal import Decimal\n",
    "\n",
    "x = Decimal(0.2) + Decimal(0.7) \n",
    "print(x) # 0.8999999999999999666933092612\n",
    "\n",
    "x = Decimal('0.2') + Decimal('0.7') \n",
    "print(x) # 0.9"
   ]
  },
  {
   "cell_type": "code",
   "execution_count": 14,
   "metadata": {},
   "outputs": [
    {
     "name": "stdout",
     "output_type": "stream",
     "text": [
      "Rounded result:  3.333\n"
     ]
    }
   ],
   "source": [
    "a = 10\n",
    "b = 3\n",
    "c = a / b\n",
    "print('Rounded result: ', round(c, 3))"
   ]
  },
  {
   "cell_type": "code",
   "execution_count": 17,
   "metadata": {},
   "outputs": [
    {
     "name": "stdout",
     "output_type": "stream",
     "text": [
      "Real part:  3.0\n",
      "Imaginary part:  4.0\n",
      "Addition:  (4+6j)\n"
     ]
    }
   ],
   "source": [
    "# example of a complex number\n",
    "a1 = 3 + 4j\n",
    "a2 = 1 + 2j\n",
    "\n",
    "print('Real part: ', a1.real)\n",
    "print('Imaginary part: ', a1.imag)\n",
    "\n",
    "print('Addition: ', a1 + a2)"
   ]
  }
 ],
 "metadata": {
  "kernelspec": {
   "display_name": ".venv",
   "language": "python",
   "name": "python3"
  },
  "language_info": {
   "codemirror_mode": {
    "name": "ipython",
    "version": 3
   },
   "file_extension": ".py",
   "mimetype": "text/x-python",
   "name": "python",
   "nbconvert_exporter": "python",
   "pygments_lexer": "ipython3",
   "version": "3.12.5"
  }
 },
 "nbformat": 4,
 "nbformat_minor": 2
}
