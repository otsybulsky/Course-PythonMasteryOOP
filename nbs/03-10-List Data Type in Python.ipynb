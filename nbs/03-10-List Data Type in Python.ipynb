{
 "cells": [
  {
   "cell_type": "code",
   "execution_count": 50,
   "metadata": {},
   "outputs": [
    {
     "name": "stdout",
     "output_type": "stream",
     "text": [
      "[1, 2, 3] [5, 'Hello', True] ['H', 'e', 'l', 'l', 'o']\n",
      "[0, 1, 2, 3, 4, 5] [-2, -1, 0, 1, 2, 3, 4] [-30, -20, -10, 0, 10, 20, 30, 40]\n"
     ]
    }
   ],
   "source": [
    "# list ordered, mutable\n",
    "\n",
    "lst_1 = [1, 2, 3]\n",
    "lst_2 = [5, 'Hello', True]\n",
    "lst_3 = list('Hello')\n",
    "\n",
    "print(lst_1, lst_2, lst_3)\n",
    "\n",
    "lst_4 = list(range(6))\n",
    "lst_5 = list(range(-2, 5))\n",
    "lst_6 = list(range(-30, 50, 10))\n",
    "print(lst_4, lst_5, lst_6)"
   ]
  },
  {
   "cell_type": "code",
   "execution_count": 51,
   "metadata": {},
   "outputs": [
    {
     "name": "stdout",
     "output_type": "stream",
     "text": [
      "[1, 2, 3]\n",
      "[1, 2, 3, 1, 2, 3, 5, 'Hello', True]\n"
     ]
    }
   ],
   "source": [
    "print(lst_1)\n",
    "print(lst_1*2 + lst_2)"
   ]
  },
  {
   "cell_type": "code",
   "execution_count": 52,
   "metadata": {},
   "outputs": [
    {
     "name": "stdout",
     "output_type": "stream",
     "text": [
      "[5, 'First', 'Hello', True]\n",
      "[5, 'Hello', True]\n"
     ]
    }
   ],
   "source": [
    "lst_2.append(33)\n",
    "del lst_2[3]\n",
    "lst_2.insert(1, \"First\")\n",
    "print(lst_2)\n",
    "\n",
    "lst_2.remove(\"First\")\n",
    "print(lst_2)"
   ]
  },
  {
   "cell_type": "code",
   "execution_count": 53,
   "metadata": {},
   "outputs": [
    {
     "name": "stdout",
     "output_type": "stream",
     "text": [
      "True [5, 'Hello']\n"
     ]
    }
   ],
   "source": [
    "last = lst_2.pop()\n",
    "print(last, lst_2)"
   ]
  },
  {
   "cell_type": "code",
   "execution_count": 55,
   "metadata": {},
   "outputs": [
    {
     "name": "stdout",
     "output_type": "stream",
     "text": [
      "[-30, -20, -10, 0, 10, 20, 30, 40]\n",
      "[40, 30, 20, 10, 0, -10, -20, -30]\n",
      "[40, 30, 20, 10, 0, -10, -20, -30]\n"
     ]
    }
   ],
   "source": [
    "print(lst_6)\n",
    "lst_6.reverse()\n",
    "print(lst_6)\n",
    "\n",
    "lst_6.sort(reverse=True)\n",
    "print(lst_6)"
   ]
  }
 ],
 "metadata": {
  "kernelspec": {
   "display_name": ".venv",
   "language": "python",
   "name": "python3"
  },
  "language_info": {
   "codemirror_mode": {
    "name": "ipython",
    "version": 3
   },
   "file_extension": ".py",
   "mimetype": "text/x-python",
   "name": "python",
   "nbconvert_exporter": "python",
   "pygments_lexer": "ipython3",
   "version": "3.12.5"
  }
 },
 "nbformat": 4,
 "nbformat_minor": 2
}
