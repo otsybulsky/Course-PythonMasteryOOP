{
 "cells": [
  {
   "cell_type": "markdown",
   "metadata": {},
   "source": [
    "Reference objects - copy reference of the same object (one object, many references)\n",
    "variable referencing object     a ---> [1, 2, 3]\n",
    "- list, dict, set\n",
    "- bytearray\n",
    "- custom objects ( instance of class )\n",
    "\n",
    "Atomic objects - copy creats new same value (new object)\n",
    "single value    a = 1\n",
    "- int, float\n",
    "- complex, bool\n",
    "- str, tuple, bytes\n"
   ]
  },
  {
   "cell_type": "code",
   "execution_count": 57,
   "metadata": {},
   "outputs": [
    {
     "name": "stdout",
     "output_type": "stream",
     "text": [
      "1 1 True\n",
      "6 1 False\n"
     ]
    }
   ],
   "source": [
    "# atomic objects\n",
    "a = 1\n",
    "b = a\n",
    "print(a, b, id(a) == id(b))\n",
    "\n",
    "a = 6\n",
    "print(a, b, id(a) == id(b))"
   ]
  },
  {
   "cell_type": "code",
   "execution_count": 58,
   "metadata": {},
   "outputs": [
    {
     "name": "stdout",
     "output_type": "stream",
     "text": [
      "[1, 2, 3] [1, 2, 3] True\n",
      "[10, 2, 3] [10, 2, 3] True\n"
     ]
    }
   ],
   "source": [
    "# reference object\n",
    "x = [1, 2 , 3]\n",
    "y = x\n",
    "print(x, y, id(x) == id(y))\n",
    "\n",
    "x[0] = 10\n",
    "print(x, y, id(x) == id(y))"
   ]
  },
  {
   "cell_type": "markdown",
   "metadata": {},
   "source": [
    "Reference \n",
    "- mutable, object can be changed - list, dict, set, custom obj\n",
    "- immutable - int, float, complex, tuple, str, bytes "
   ]
  },
  {
   "cell_type": "code",
   "execution_count": 59,
   "metadata": {},
   "outputs": [
    {
     "name": "stdout",
     "output_type": "stream",
     "text": [
      "2477325845536 Oleg\n",
      "2477326135920 OLEG\n"
     ]
    }
   ],
   "source": [
    "s1 = \"Oleg\" # is immutable\n",
    "print(id(s1), s1)\n",
    "s1 = s1.upper() # returns reference to new object\n",
    "print(id(s1), s1)\n"
   ]
  }
 ],
 "metadata": {
  "kernelspec": {
   "display_name": ".venv",
   "language": "python",
   "name": "python3"
  },
  "language_info": {
   "codemirror_mode": {
    "name": "ipython",
    "version": 3
   },
   "file_extension": ".py",
   "mimetype": "text/x-python",
   "name": "python",
   "nbconvert_exporter": "python",
   "pygments_lexer": "ipython3",
   "version": "3.12.5"
  }
 },
 "nbformat": 4,
 "nbformat_minor": 2
}
