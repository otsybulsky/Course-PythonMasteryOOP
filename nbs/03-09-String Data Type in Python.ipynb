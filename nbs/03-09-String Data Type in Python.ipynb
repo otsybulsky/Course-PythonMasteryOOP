{
 "cells": [
  {
   "cell_type": "markdown",
   "metadata": {},
   "source": [
    "Sequence types: string, list, tuple, range"
   ]
  },
  {
   "cell_type": "code",
   "execution_count": 52,
   "metadata": {},
   "outputs": [
    {
     "name": "stdout",
     "output_type": "stream",
     "text": [
      "Oleg \n",
      "Multi line\n",
      "                    string\n"
     ]
    }
   ],
   "source": [
    "name = 'Oleg'\n",
    "name2 = '''\n",
    "Multi line\n",
    "                    string'''\n",
    "print(name, name2)"
   ]
  },
  {
   "cell_type": "code",
   "execution_count": 53,
   "metadata": {},
   "outputs": [
    {
     "name": "stdout",
     "output_type": "stream",
     "text": [
      "O\n",
      "le\n",
      "g\n",
      "Ole\n",
      "leg\n"
     ]
    }
   ],
   "source": [
    "print(name[0])\n",
    "print(name[1:3])\n",
    "print(name[-1])\n",
    "print(name[:3])\n",
    "print(name[1:])"
   ]
  },
  {
   "cell_type": "code",
   "execution_count": 54,
   "metadata": {},
   "outputs": [
    {
     "name": "stdout",
     "output_type": "stream",
     "text": [
      "i like python!\n",
      "I LIKE PYTHON!\n",
      "I like Python\n",
      "I likeeeee Python!\n",
      "2\n",
      "['I', 'like', 'Python!']\n",
      "banana, lemon, orange\n",
      "True\n",
      "14\n"
     ]
    }
   ],
   "source": [
    "name = \"I like Python!\"\n",
    "print(name.lower())\n",
    "print(name.upper())\n",
    "print(name.strip(\"!\"))\n",
    "\n",
    "print(name.replace(\"e\", \"e\" * 5))\n",
    "print(name.find(\"like\"))\n",
    "#print(name.index(\"like\"))\n",
    "\n",
    "print(name.split())\n",
    "print(', '.join(['banana', 'lemon', 'orange']))\n",
    "\n",
    "print(name.startswith('I like'))\n",
    "print(len(name))"
   ]
  },
  {
   "cell_type": "code",
   "execution_count": 55,
   "metadata": {},
   "outputs": [
    {
     "name": "stdout",
     "output_type": "stream",
     "text": [
      "You have been hired as a Software Engineer with a salary of $65000 per year.\n",
      "You have been hired as a Software Engineer with a salary of $97500 per year.\n",
      "You have been hired as a Software Engineer with a salary of $130000 per year.\n",
      "Name: Alice      | Score: 92.321143\n",
      "\n",
      "Name: Alice      | Score: 92.321\n",
      "\n",
      "Name: Alice      | Score: 92.321\n",
      "\n"
     ]
    }
   ],
   "source": [
    "# string formatting\n",
    "\n",
    "# Old-style string formatting using %\n",
    "position = 'Software Engineer'\n",
    "salary = 65000\n",
    "\n",
    "message = 'You have been hired as a %s with a salary of $%d per year.' % (position, salary)\n",
    "print(message)\n",
    "\n",
    "# New - style string formatting using .format\n",
    "message = 'You have been hired as a {} with a salary of ${} per year.'.format(position, int(salary*1.5))\n",
    "print(message)\n",
    "\n",
    "# f-string formatting - cleaner, faster, easy to read\n",
    "message = f'You have been hired as a {position} with a salary of ${salary*2} per year.'\n",
    "print(message)\n",
    "\n",
    "name = 'Alice'\n",
    "score = 92.321143\n",
    "\n",
    "message = f'Name: {name:<10} | Score: {score:>4}' # left/right align\n",
    "print(message)\n",
    "\n",
    "message = f'\\nName: {name:<10} | Score: {score:,.3f}\\n' \n",
    "print(message * 2)"
   ]
  },
  {
   "cell_type": "code",
   "execution_count": null,
   "metadata": {},
   "outputs": [],
   "source": []
  }
 ],
 "metadata": {
  "kernelspec": {
   "display_name": ".venv",
   "language": "python",
   "name": "python3"
  },
  "language_info": {
   "codemirror_mode": {
    "name": "ipython",
    "version": 3
   },
   "file_extension": ".py",
   "mimetype": "text/x-python",
   "name": "python",
   "nbconvert_exporter": "python",
   "pygments_lexer": "ipython3",
   "version": "3.12.5"
  }
 },
 "nbformat": 4,
 "nbformat_minor": 2
}
