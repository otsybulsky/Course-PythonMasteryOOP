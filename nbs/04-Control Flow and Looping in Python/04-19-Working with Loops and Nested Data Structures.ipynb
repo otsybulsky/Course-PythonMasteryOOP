{
 "cells": [
  {
   "cell_type": "code",
   "execution_count": 10,
   "metadata": {},
   "outputs": [
    {
     "name": "stdout",
     "output_type": "stream",
     "text": [
      "1 2 3 \n",
      "4 5 6 \n",
      "7 8 9 \n"
     ]
    }
   ],
   "source": [
    "grid = [\n",
    "    [1, 2, 3],\n",
    "    [4, 5, 6],\n",
    "    [7, 8, 9]\n",
    "]\n",
    "\n",
    "for row in grid:\n",
    "    for val in row:\n",
    "        print(val, end=\" \") #printed at same line\n",
    "    print()"
   ]
  },
  {
   "cell_type": "code",
   "execution_count": 11,
   "metadata": {},
   "outputs": [
    {
     "name": "stdout",
     "output_type": "stream",
     "text": [
      "Username: user1\n",
      "Name: Nick\n",
      "Age: 32\n",
      "Location: New York\n",
      "\n",
      "Username: user2\n",
      "Name: John\n",
      "Age: 21\n",
      "Location: London\n",
      "\n",
      "Username: user3\n",
      "Name: Oleg\n",
      "Age: 49\n",
      "Location: Kremenchuk\n",
      "\n"
     ]
    }
   ],
   "source": [
    "users = {\n",
    "    'user1': { 'name': 'Nick', 'age': 32, 'location': 'New York' },\n",
    "    'user2': { 'name': 'John', 'age': 21, 'location': 'London' },\n",
    "    'user3': { 'name': 'Oleg', 'age': 49, 'location': 'Kremenchuk' },\n",
    "}\n",
    "\n",
    "for username, details in users.items():\n",
    "    print(f'Username: {username}')\n",
    "    for key, value in details.items():\n",
    "        print(f'{key.capitalize()}: {value}')\n",
    "    print()"
   ]
  },
  {
   "cell_type": "code",
   "execution_count": 12,
   "metadata": {},
   "outputs": [
    {
     "name": "stdout",
     "output_type": "stream",
     "text": [
      "Name: Laptop, Price: 1200, Stock: 10\n",
      "Name: Phone, Price: 500, Stock: 60\n"
     ]
    }
   ],
   "source": [
    "products = [\n",
    "    {\"name\": \"Laptop\", \"price\": 1200, \"stock\": 10},\n",
    "    {\"name\": \"Phone\", \"price\": 500, \"stock\": 60},\n",
    "]\n",
    "\n",
    "for product in products:\n",
    "    print(f\"Name: {product[\"name\"]}, Price: {product[\"price\"]}, Stock: {product[\"stock\"]}\")"
   ]
  },
  {
   "cell_type": "code",
   "execution_count": 16,
   "metadata": {},
   "outputs": [
    {
     "name": "stdout",
     "output_type": "stream",
     "text": [
      "Item: Apple, Price: $0.5000\n",
      "Item: Banana, Price: $0.4000\n",
      "Item: Carrot, Price: $0.3000\n"
     ]
    }
   ],
   "source": [
    "grocery_items = [\n",
    "    (\"Apple\", 0.50),\n",
    "    (\"Banana\", 0.40),\n",
    "    (\"Carrot\", 0.30)\n",
    "]\n",
    "\n",
    "for item, price in grocery_items:\n",
    "    print(f\"Item: {item}, Price: ${price:.4f}\")"
   ]
  }
 ],
 "metadata": {
  "kernelspec": {
   "display_name": ".venv",
   "language": "python",
   "name": "python3"
  },
  "language_info": {
   "codemirror_mode": {
    "name": "ipython",
    "version": 3
   },
   "file_extension": ".py",
   "mimetype": "text/x-python",
   "name": "python",
   "nbconvert_exporter": "python",
   "pygments_lexer": "ipython3",
   "version": "3.12.5"
  }
 },
 "nbformat": 4,
 "nbformat_minor": 2
}
