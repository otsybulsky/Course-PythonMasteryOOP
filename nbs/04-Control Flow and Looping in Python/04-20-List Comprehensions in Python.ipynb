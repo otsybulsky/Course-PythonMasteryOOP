{
 "cells": [
  {
   "cell_type": "code",
   "execution_count": 3,
   "metadata": {},
   "outputs": [
    {
     "name": "stdout",
     "output_type": "stream",
     "text": [
      "[0, 1, 2, 3, 4, 5, 6, 7, 8, 9, 10]\n",
      "[0, 1, 4, 9, 16, 25, 36, 49, 64, 81, 100]\n"
     ]
    }
   ],
   "source": [
    "my_lst = []\n",
    "for x in range(11):\n",
    "    my_lst.append(x)\n",
    "\n",
    "print(my_lst)\n",
    "\n",
    "my_lst2 = [x**2 for x in range(11)] #list comprehensions\n",
    "print(my_lst2)"
   ]
  },
  {
   "cell_type": "code",
   "execution_count": 6,
   "metadata": {},
   "outputs": [
    {
     "name": "stdout",
     "output_type": "stream",
     "text": [
      "['Los Angeles', 'Houston', 'London']\n",
      "['Los Angeles', 'Houston', 'London']\n"
     ]
    }
   ],
   "source": [
    "towns = [\"New York\", \"Los Angeles\", \"Houston\", \"London\"]\n",
    "new_list = []\n",
    "\n",
    "for x in towns:\n",
    "    if x != \"New York\":\n",
    "        new_list.append(x)\n",
    "print(new_list)\n",
    "\n",
    "new_list2 = [x for x in towns if x != \"New York\"]\n",
    "print(new_list2)"
   ]
  },
  {
   "cell_type": "code",
   "execution_count": 7,
   "metadata": {},
   "outputs": [
    {
     "name": "stdout",
     "output_type": "stream",
     "text": [
      "[0, 30]\n"
     ]
    }
   ],
   "source": [
    "numbers = [x for x in range(51) if x % 2 == 0 if x % 3 == 0 if x % 5 == 0]\n",
    "print(numbers)\n"
   ]
  },
  {
   "cell_type": "code",
   "execution_count": 12,
   "metadata": {},
   "outputs": [
    {
     "name": "stdout",
     "output_type": "stream",
     "text": [
      "[1, 2, 3, 4, 5, 6, 7, 8, 9]\n"
     ]
    }
   ],
   "source": [
    "grid = [[1, 2 ,3], [4, 5, 6], [7, 8, 9]]\n",
    "\n",
    "flat = [col for row in grid for col in row]\n",
    "print(flat)"
   ]
  },
  {
   "cell_type": "code",
   "execution_count": 13,
   "metadata": {},
   "outputs": [
    {
     "name": "stdout",
     "output_type": "stream",
     "text": [
      "['5 not divisible by 3', '9 divisible by 3', '12 divisible by 3', '17 not divisible by 3', '21 divisible by 3', '25 not divisible by 3']\n"
     ]
    }
   ],
   "source": [
    "numbers = [5, 9, 12, 17, 21, 25]\n",
    "categorized = [f\"{x} divisible by 3\" if x % 3 == 0 else f\"{x} not divisible by 3\" for x in numbers]\n",
    "\n",
    "print(categorized)"
   ]
  }
 ],
 "metadata": {
  "kernelspec": {
   "display_name": ".venv",
   "language": "python",
   "name": "python3"
  },
  "language_info": {
   "codemirror_mode": {
    "name": "ipython",
    "version": 3
   },
   "file_extension": ".py",
   "mimetype": "text/x-python",
   "name": "python",
   "nbconvert_exporter": "python",
   "pygments_lexer": "ipython3",
   "version": "3.12.5"
  }
 },
 "nbformat": 4,
 "nbformat_minor": 2
}
