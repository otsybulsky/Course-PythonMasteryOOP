{
 "cells": [
  {
   "cell_type": "code",
   "execution_count": 1,
   "metadata": {},
   "outputs": [
    {
     "name": "stdout",
     "output_type": "stream",
     "text": [
      "Lion Savanna\n",
      "Lion Antarctica\n",
      "Lion Grassland\n",
      "Penguin Savanna\n",
      "Penguin Antarctica\n",
      "Penguin Grassland\n",
      "Elepant Savanna\n",
      "Elepant Antarctica\n",
      "Elepant Grassland\n"
     ]
    }
   ],
   "source": [
    "animals = ['Lion', 'Penguin', 'Elepant', ]\n",
    "habitats = ['Savanna', 'Antarctica', 'Grassland']\n",
    "\n",
    "for animal in animals:\n",
    "    for habitat in habitats:\n",
    "        print(animal, habitat)\n"
   ]
  }
 ],
 "metadata": {
  "kernelspec": {
   "display_name": ".venv",
   "language": "python",
   "name": "python3"
  },
  "language_info": {
   "codemirror_mode": {
    "name": "ipython",
    "version": 3
   },
   "file_extension": ".py",
   "mimetype": "text/x-python",
   "name": "python",
   "nbconvert_exporter": "python",
   "pygments_lexer": "ipython3",
   "version": "3.12.5"
  }
 },
 "nbformat": 4,
 "nbformat_minor": 2
}
